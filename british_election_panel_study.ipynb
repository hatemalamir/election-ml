{
 "cells": [
  {
   "cell_type": "markdown",
   "metadata": {
    "colab_type": "text",
    "id": "ppYpVciAzbi6"
   },
   "source": [
    "# Imports"
   ]
  },
  {
   "cell_type": "code",
   "execution_count": null,
   "metadata": {
    "colab": {},
    "colab_type": "code",
    "id": "pfeYxEOmzax8"
   },
   "outputs": [],
   "source": [
    "from os.path import join\n",
    "import numpy as np\n",
    "import pandas as pd\n",
    "import matplotlib.pyplot as plt\n",
    "import seaborn as sns\n",
    "from mpl_toolkits.mplot3d import Axes3D\n",
    "from scipy.stats import norm\n",
    "from sklearn.preprocessing import StandardScaler\n",
    "from sklearn.model_selection import train_test_split #for splitting data\n",
    "from scipy import stats\n",
    "import warnings\n",
    "\n",
    "warnings.filterwarnings('ignore')\n",
    "%matplotlib inline"
   ]
  },
  {
   "cell_type": "markdown",
   "metadata": {
    "colab_type": "text",
    "id": "65wVZ0R8rBN9"
   },
   "source": [
    "# Retrieve dataset"
   ]
  },
  {
   "cell_type": "code",
   "execution_count": null,
   "metadata": {
    "colab": {},
    "colab_type": "code",
    "id": "ZSFQUbIMBiS8"
   },
   "outputs": [],
   "source": [
    "DS_URL = \"https://raw.githubusercontent.com/clintonyeb/ml-dataset/master/BEPS.csv\"\n",
    "FIG_SIZE=(12, 6)"
   ]
  },
  {
   "cell_type": "code",
   "execution_count": null,
   "metadata": {
    "colab": {
     "base_uri": "https://localhost:8080/",
     "height": 457
    },
    "colab_type": "code",
    "id": "4GCod7yHsiR4",
    "outputId": "62461a77-bd15-46c9-c263-a5339be7f369"
   },
   "outputs": [],
   "source": [
    "beps = pd.read_csv(DS_URL, names=[\"id\", \"vote\", \"age\", \"nat_cond\", \"hhold_cond\", \"labor_lead_assmnt\", \"cons_lead_assmnt\", \"democ_lead_assmnt\", \"euro_intg_attud\", \"political_knowledge\", \"gender\"], index_col=\"id\", header=0)\n",
    "beps.head(10)"
   ]
  },
  {
   "cell_type": "markdown",
   "metadata": {
    "colab_type": "text",
    "id": "bQU3suvIvAiR"
   },
   "source": [
    "# Exploratory Data Analysis (EDA)"
   ]
  },
  {
   "cell_type": "markdown",
   "metadata": {
    "colab_type": "text",
    "id": "Jd_vKf75vDOD"
   },
   "source": [
    "We are using [British Election Panel Study](https:/https://vincentarelbundock.github.io/Rdatasets/doc/carData/BEPS.html/) dataset.    \n",
    "\n",
    "<font size = \"4\"><u>***Description***</u></font>   \n",
    "These data are drawn from the 1997-2001 British Election Panel Study (BEPS).   \n",
    "\n",
    "---\n",
    "\n",
    "<font size = \"4\"><u>***Format***</u></font>      \n",
    "A data frame with 1525 observations on the following 10 variables.   \n",
    "\n",
    "**vote**   \n",
    "Party choice: Conservative, Labour, or Liberal Democrat\n",
    "\n",
    "**age**   \n",
    "in years\n",
    "\n",
    "**economic.cond.national**   \n",
    "Assessment of current national economic conditions, 1 to 5.\n",
    "\n",
    "**economic.cond.household**   \n",
    "Assessment of current household economic conditions, 1 to 5.\n",
    "\n",
    "**Blair**   \n",
    "Assessment of the Labour leader, 1 to 5.\n",
    "\n",
    "**Hague**   \n",
    "Assessment of the Conservative leader, 1 to 5.\n",
    "\n",
    "**Kennedy**   \n",
    "Assessment of the leader of the Liberal Democrats, 1 to 5.\n",
    "\n",
    "**Europe**   \n",
    "an 11-point scale that measures respondents' attitudes toward European integration. High scores represent ‘Eurosceptic’ sentiment.\n",
    "\n",
    "**political.knowledge**   \n",
    "Knowledge of parties' positions on European integration, 0 to 3.\n",
    "\n",
    "**gender**   \n",
    "female or male.\n",
    "\n",
    "---\n",
    "\n",
    "<font size = \"4\"><u>***References***</u></font>   \n",
    "J. Fox and R. Andersen (2006) Effect displays for multinomial and proportional-odds logit models. Sociological Methodology 36, 225–255."
   ]
  },
  {
   "cell_type": "code",
   "execution_count": null,
   "metadata": {
    "colab": {
     "base_uri": "https://localhost:8080/",
     "height": 269
    },
    "colab_type": "code",
    "id": "QeM3wsMFCa2E",
    "outputId": "30b737ae-8ecf-4317-e17a-4fe7cb08e960"
   },
   "outputs": [],
   "source": [
    "print(\"Number of records: \", len(beps))\n",
    "print(\"Shape: \", beps.shape)\n",
    "# Checks if there are any missing values\n",
    "print(\"\\nMissing data?\")\n",
    "beps.isnull().sum()"
   ]
  },
  {
   "cell_type": "code",
   "execution_count": null,
   "metadata": {
    "colab": {
     "base_uri": "https://localhost:8080/",
     "height": 285
    },
    "colab_type": "code",
    "id": "hzZK7244CoJw",
    "outputId": "9c3441af-0c90-4a9b-becb-40c938b4a907"
   },
   "outputs": [],
   "source": [
    "sns.countplot(x=\"vote\", data=beps);"
   ]
  },
  {
   "cell_type": "markdown",
   "metadata": {
    "colab_type": "text",
    "id": "SEdr9Y0LC0Mz"
   },
   "source": [
    "The Labor party won that election. This might be the reason why it's more represented here!"
   ]
  },
  {
   "cell_type": "code",
   "execution_count": null,
   "metadata": {
    "colab": {},
    "colab_type": "code",
    "id": "yMH3YzoCCydH"
   },
   "outputs": [],
   "source": [
    "sns.set(style=\"whitegrid\")\n",
    "sns.violinplot(x=\"vote\", y=\"age\", data=beps);"
   ]
  },
  {
   "cell_type": "code",
   "execution_count": null,
   "metadata": {
    "colab": {},
    "colab_type": "code",
    "id": "FsE_i--vC_Mp"
   },
   "outputs": [],
   "source": [
    "sns.boxplot(x=\"vote\", y=\"age\", data=beps);"
   ]
  },
  {
   "cell_type": "markdown",
   "metadata": {
    "colab_type": "text",
    "id": "oyDOdSLiC8BA"
   },
   "source": [
    "We can tell from the above two graphs that the Conservate party voter's typical age is higher than that of the two other parties"
   ]
  },
  {
   "cell_type": "code",
   "execution_count": null,
   "metadata": {
    "colab": {},
    "colab_type": "code",
    "id": "QuCbhqJHDMB_"
   },
   "outputs": [],
   "source": [
    "beps.groupby('vote')['nat_cond'].plot.hist(legend=True, figsize=FIG_SIZE);"
   ]
  },
  {
   "cell_type": "markdown",
   "metadata": {
    "colab_type": "text",
    "id": "68xbYc9RDQ0X"
   },
   "source": [
    "It seems like the Labor's party voters were happier with the national economic conditions than the others, followed by the Liberal Democrat's"
   ]
  },
  {
   "cell_type": "code",
   "execution_count": null,
   "metadata": {
    "colab": {},
    "colab_type": "code",
    "id": "6spUrJboEF0S"
   },
   "outputs": [],
   "source": [
    "beps.groupby('vote')['hhold_cond'].plot.hist(legend=True, figsize=FIG_SIZE);"
   ]
  },
  {
   "cell_type": "markdown",
   "metadata": {
    "colab_type": "text",
    "id": "N0QhIYN-EWD6"
   },
   "source": [
    "The public attitude towards household economic conditions reflects that towards national economic conditions"
   ]
  },
  {
   "cell_type": "code",
   "execution_count": null,
   "metadata": {
    "colab": {},
    "colab_type": "code",
    "id": "ulxocSS3Eaq5"
   },
   "outputs": [],
   "source": [
    "beps.groupby('vote')['labor_lead_assmnt'].plot.hist(legend=True, figsize=FIG_SIZE);"
   ]
  },
  {
   "cell_type": "markdown",
   "metadata": {
    "colab_type": "text",
    "id": "HlDBv3siEfRu"
   },
   "source": [
    "It seems like the Labor's leader (i.e. Tony Blair) was just fine, but the voters might wanted more, because even among the Labor's voters there were way more 4s than 5s. Also, it seems like he was more popular among the Libral Democrats than the Conservatives."
   ]
  },
  {
   "cell_type": "code",
   "execution_count": null,
   "metadata": {
    "colab": {},
    "colab_type": "code",
    "id": "FhxA-m7GE3fr"
   },
   "outputs": [],
   "source": [
    "beps.groupby('vote')['cons_lead_assmnt'].plot.hist(legend=True, figsize=FIG_SIZE);"
   ]
  },
  {
   "cell_type": "markdown",
   "metadata": {
    "colab_type": "text",
    "id": "-c3ORcCdFADn"
   },
   "source": [
    "It doesn't seem like the conservative's leader (i.e. John Major) was more popular among Labour's voters than the Labour's leader was among the Conservatives!\n",
    "But the Liberal Democrats seemed more into the Labour's leader than the Conservative's leader."
   ]
  },
  {
   "cell_type": "code",
   "execution_count": null,
   "metadata": {
    "colab": {},
    "colab_type": "code",
    "id": "Y7rPAblyE7-I"
   },
   "outputs": [],
   "source": [
    "beps.groupby('vote')['democ_lead_assmnt'].plot.hist(legend=True, figsize=FIG_SIZE);"
   ]
  },
  {
   "cell_type": "markdown",
   "metadata": {
    "colab_type": "text",
    "id": "mOSegtjoFLoE"
   },
   "source": [
    "The Liberal Democrat's leader (i.e. Paddy Ashdown) seemed just fine, but not so popular even among Liberal Democrats or the Labour's voters.\n",
    "But it obvious that the Conservatives didn't like him at all."
   ]
  },
  {
   "cell_type": "code",
   "execution_count": null,
   "metadata": {
    "colab": {},
    "colab_type": "code",
    "id": "Ztt7w_8VFZW1"
   },
   "outputs": [],
   "source": [
    "beps.groupby('vote')['euro_intg_attud'].plot.hist(legend=True, figsize=FIG_SIZE);"
   ]
  },
  {
   "cell_type": "markdown",
   "metadata": {
    "colab_type": "text",
    "id": "XTcBoTy4FddA"
   },
   "source": [
    "The most prominent attitude was the Conservatives attitude! They seemed very Eurosceptic! "
   ]
  },
  {
   "cell_type": "code",
   "execution_count": null,
   "metadata": {
    "colab": {},
    "colab_type": "code",
    "id": "MivjkU3nFsUH"
   },
   "outputs": [],
   "source": [
    "beps.groupby(['vote', 'gender'])['vote'].count().unstack('gender').plot.bar(stacked=True, figsize=FIG_SIZE);"
   ]
  },
  {
   "cell_type": "markdown",
   "metadata": {
    "colab_type": "text",
    "id": "bn1NhwK7FvLr"
   },
   "source": [
    "The number of female voters in almost all the parties was almost half the number of male voters!"
   ]
  },
  {
   "cell_type": "code",
   "execution_count": null,
   "metadata": {},
   "outputs": [],
   "source": [
    "g = sns.FacetGrid(beps, col=\"vote\", margin_titles=True)\n",
    "g.map(plt.hist, \"political_knowledge\", color=\"steelblue\");"
   ]
  },
  {
   "cell_type": "code",
   "execution_count": null,
   "metadata": {},
   "outputs": [],
   "source": [
    "plt.figure(figsize=FIG_SIZE)\n",
    "sns.countplot(x='political_knowledge', hue='vote', data=beps);"
   ]
  },
  {
   "cell_type": "markdown",
   "metadata": {},
   "source": [
    "We can vaguely say that the Conservatives tend to report higher knowledge of parties' positions on European integration than the other parties' voters tend to do!"
   ]
  },
  {
   "cell_type": "code",
   "execution_count": null,
   "metadata": {
    "colab": {},
    "colab_type": "code",
    "id": "dzp_-ZMzUxFV"
   },
   "outputs": [],
   "source": [
    "nat_hhold = beps.groupby([\"nat_cond\", \"hhold_cond\"])[\"nat_cond\"].count()\n",
    "plt.figure(figsize=FIG_SIZE)\n",
    "sns.heatmap(nat_hhold.unstack(\"hhold_cond\"), annot=True, cmap=\"YlGnBu\");"
   ]
  },
  {
   "cell_type": "code",
   "execution_count": null,
   "metadata": {
    "colab": {},
    "colab_type": "code",
    "id": "BEmybVkceptl"
   },
   "outputs": [],
   "source": [
    "nat_hhold.unstack().plot(figsize=FIG_SIZE);"
   ]
  },
  {
   "cell_type": "markdown",
   "metadata": {
    "colab_type": "text",
    "id": "_mX-xMqqbKH7"
   },
   "source": [
    "The relationship between voter's assessment of current national vs. household economic conditions is not linear! Voters seemed half-half satisfied with both!"
   ]
  },
  {
   "cell_type": "code",
   "execution_count": null,
   "metadata": {},
   "outputs": [],
   "source": [
    "plt.figure(figsize=(17, 6))\n",
    "vote_lab = beps.loc[beps.vote == 'Labour']\n",
    "vote_cons = beps.loc[beps.vote == 'Conservative']\n",
    "vote_democ = beps.loc[beps.vote == 'Liberal Democrat']\n",
    "plt.subplot(131)\n",
    "sns.kdeplot(vote_lab['euro_intg_attud'], vote_lab['age'], cmap=\"YlOrBr\", shade=True, shade_lowest=False)\n",
    "plt.subplot(132)\n",
    "sns.kdeplot(vote_cons['euro_intg_attud'], vote_cons['age'], cmap=\"Reds\", shade=True, shade_lowest=False)\n",
    "plt.subplot(133)\n",
    "sns.kdeplot(vote_democ['euro_intg_attud'], vote_democ['age'], cmap=\"Blues\", shade=True, shade_lowest=False);"
   ]
  },
  {
   "cell_type": "markdown",
   "metadata": {},
   "source": [
    "The trend of older and more Eurosceptic Conservatives is obvious once more!"
   ]
  },
  {
   "cell_type": "code",
   "execution_count": null,
   "metadata": {},
   "outputs": [],
   "source": [
    "fig = plt.figure(figsize=FIG_SIZE)\n",
    "ax = fig.add_subplot(111, projection='3d')\n",
    "beps_c = beps['vote'].map({'Labour':'r', 'Conservative':'b', 'Liberal Democrat':'g'})\n",
    "ax.scatter(beps['labor_lead_assmnt'], beps['cons_lead_assmnt'], beps['democ_lead_assmnt'], s = 60, c=beps_c)\n",
    "ax.set_xlabel('labor_lead_assmnt')\n",
    "ax.set_ylabel('cons_lead_assmnt')\n",
    "ax.set_zlabel('domoc_lead_assmnt')\n",
    "plt.show()"
   ]
  },
  {
   "cell_type": "code",
   "execution_count": null,
   "metadata": {
    "colab": {
     "base_uri": "https://localhost:8080/",
     "height": 1000
    },
    "colab_type": "code",
    "id": "HJNMv_H9GLyG",
    "outputId": "0dfd1f55-e9b6-4f21-e5af-a53de6eb96e0"
   },
   "outputs": [],
   "source": [
    "sns.pairplot(beps[['age', 'nat_cond', 'hhold_cond', 'labor_lead_assmnt', 'cons_lead_assmnt', 'democ_lead_assmnt', 'euro_intg_attud', 'political_knowledge']]);"
   ]
  },
  {
   "cell_type": "markdown",
   "metadata": {
    "colab_type": "text",
    "id": "Bh8s2nL-h5YG"
   },
   "source": [
    "There is no linear correlation between any pair of variables! Even between variables like age and attitudes toward European integration for example, or age and political knowledge!"
   ]
  }
 ],
 "metadata": {
  "colab": {
   "collapsed_sections": [],
   "name": "election-ml.ipynb",
   "provenance": [],
   "toc_visible": true
  },
  "kernelspec": {
   "display_name": "Python 3",
   "language": "python",
   "name": "python3"
  },
  "language_info": {
   "codemirror_mode": {
    "name": "ipython",
    "version": 3
   },
   "file_extension": ".py",
   "mimetype": "text/x-python",
   "name": "python",
   "nbconvert_exporter": "python",
   "pygments_lexer": "ipython3",
   "version": "3.8.2"
  }
 },
 "nbformat": 4,
 "nbformat_minor": 1
}
